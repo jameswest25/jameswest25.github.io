{
 "cells": [
  {
   "cell_type": "code",
   "execution_count": 1,
   "id": "8937eaed",
   "metadata": {},
   "outputs": [
    {
     "name": "stdout",
     "output_type": "stream",
     "text": [
      "Requirement already satisfied: tensorflow in /Users/jameswest/opt/anaconda3/envs/PIC16B/lib/python3.7/site-packages (2.8.0)\n",
      "Collecting tensorflow\n",
      "  Downloading tensorflow-2.9.1-cp37-cp37m-macosx_10_14_x86_64.whl (228.4 MB)\n",
      "\u001b[K     |████████████████████████████████| 228.4 MB 38 kB/s  eta 0:00:014   |█████████                       | 64.9 MB 5.9 MB/s eta 0:00:28     |████████████                    | 85.1 MB 10.1 MB/s eta 0:00:15     |█████████████▌                  | 96.6 MB 9.3 MB/s eta 0:00:15     |█████████████▊                  | 97.9 MB 9.3 MB/s eta 0:00:14     |██████████████                  | 100.1 MB 6.2 MB/s eta 0:00:21     |███████████████████████▉        | 170.3 MB 7.4 MB/s eta 0:00:08     |████████████████████████▊       | 176.6 MB 11.8 MB/s eta 0:00:05     |█████████████████████████▉      | 184.1 MB 9.5 MB/s eta 0:00:05     |██████████████████████████      | 186.2 MB 9.5 MB/s eta 0:00:05\n",
      "\u001b[?25hRequirement already satisfied: six>=1.12.0 in /Users/jameswest/opt/anaconda3/envs/PIC16B/lib/python3.7/site-packages (from tensorflow) (1.16.0)\n",
      "Requirement already satisfied: grpcio<2.0,>=1.24.3 in /Users/jameswest/opt/anaconda3/envs/PIC16B/lib/python3.7/site-packages (from tensorflow) (1.42.0)\n",
      "Requirement already satisfied: packaging in /Users/jameswest/opt/anaconda3/envs/PIC16B/lib/python3.7/site-packages (from tensorflow) (21.3)\n",
      "Requirement already satisfied: google-pasta>=0.1.1 in /Users/jameswest/opt/anaconda3/envs/PIC16B/lib/python3.7/site-packages (from tensorflow) (0.2.0)\n",
      "Requirement already satisfied: opt-einsum>=2.3.2 in /Users/jameswest/opt/anaconda3/envs/PIC16B/lib/python3.7/site-packages (from tensorflow) (3.3.0)\n",
      "Collecting absl-py>=1.0.0\n",
      "  Downloading absl_py-1.0.0-py3-none-any.whl (126 kB)\n",
      "\u001b[K     |████████████████████████████████| 126 kB 6.1 MB/s eta 0:00:01\n",
      "\u001b[?25hRequirement already satisfied: libclang>=13.0.0 in /Users/jameswest/opt/anaconda3/envs/PIC16B/lib/python3.7/site-packages (from tensorflow) (14.0.1)\n",
      "Requirement already satisfied: numpy>=1.20 in /Users/jameswest/opt/anaconda3/envs/PIC16B/lib/python3.7/site-packages (from tensorflow) (1.21.5)\n",
      "Requirement already satisfied: gast<=0.4.0,>=0.2.1 in /Users/jameswest/opt/anaconda3/envs/PIC16B/lib/python3.7/site-packages (from tensorflow) (0.2.2)\n",
      "Collecting tensorboard<2.10,>=2.9\n",
      "  Downloading tensorboard-2.9.0-py3-none-any.whl (5.8 MB)\n",
      "\u001b[K     |████████████████████████████████| 5.8 MB 8.8 MB/s eta 0:00:01\n",
      "\u001b[?25hCollecting tensorflow-estimator<2.10.0,>=2.9.0rc0\n",
      "  Downloading tensorflow_estimator-2.9.0-py2.py3-none-any.whl (438 kB)\n",
      "\u001b[K     |████████████████████████████████| 438 kB 7.6 MB/s eta 0:00:01\n",
      "\u001b[?25hCollecting flatbuffers<2,>=1.12\n",
      "  Using cached flatbuffers-1.12-py2.py3-none-any.whl (15 kB)\n",
      "Collecting keras<2.10.0,>=2.9.0rc0\n",
      "  Downloading keras-2.9.0-py2.py3-none-any.whl (1.6 MB)\n",
      "\u001b[K     |████████████████████████████████| 1.6 MB 7.3 MB/s eta 0:00:01\n",
      "\u001b[?25hRequirement already satisfied: typing-extensions>=3.6.6 in /Users/jameswest/opt/anaconda3/envs/PIC16B/lib/python3.7/site-packages (from tensorflow) (4.1.1)\n",
      "Requirement already satisfied: wrapt>=1.11.0 in /Users/jameswest/opt/anaconda3/envs/PIC16B/lib/python3.7/site-packages (from tensorflow) (1.13.3)\n",
      "Requirement already satisfied: astunparse>=1.6.0 in /Users/jameswest/opt/anaconda3/envs/PIC16B/lib/python3.7/site-packages (from tensorflow) (1.6.3)\n",
      "Requirement already satisfied: tensorflow-io-gcs-filesystem>=0.23.1 in /Users/jameswest/opt/anaconda3/envs/PIC16B/lib/python3.7/site-packages (from tensorflow) (0.25.0)\n",
      "Requirement already satisfied: protobuf<3.20,>=3.9.2 in /Users/jameswest/opt/anaconda3/envs/PIC16B/lib/python3.7/site-packages (from tensorflow) (3.19.1)\n",
      "Requirement already satisfied: h5py>=2.9.0 in /Users/jameswest/opt/anaconda3/envs/PIC16B/lib/python3.7/site-packages (from tensorflow) (3.6.0)\n",
      "Requirement already satisfied: termcolor>=1.1.0 in /Users/jameswest/opt/anaconda3/envs/PIC16B/lib/python3.7/site-packages (from tensorflow) (1.1.0)\n",
      "Requirement already satisfied: keras-preprocessing>=1.1.1 in /Users/jameswest/opt/anaconda3/envs/PIC16B/lib/python3.7/site-packages (from tensorflow) (1.1.2)\n",
      "Requirement already satisfied: setuptools in /Users/jameswest/opt/anaconda3/envs/PIC16B/lib/python3.7/site-packages (from tensorflow) (61.2.0)\n",
      "Requirement already satisfied: wheel<1.0,>=0.23.0 in /Users/jameswest/opt/anaconda3/envs/PIC16B/lib/python3.7/site-packages (from astunparse>=1.6.0->tensorflow) (0.37.1)\n",
      "Requirement already satisfied: cached-property in /Users/jameswest/opt/anaconda3/envs/PIC16B/lib/python3.7/site-packages (from h5py>=2.9.0->tensorflow) (1.5.2)\n",
      "Requirement already satisfied: google-auth<3,>=1.6.3 in /Users/jameswest/opt/anaconda3/envs/PIC16B/lib/python3.7/site-packages (from tensorboard<2.10,>=2.9->tensorflow) (2.6.6)\n",
      "Requirement already satisfied: markdown>=2.6.8 in /Users/jameswest/opt/anaconda3/envs/PIC16B/lib/python3.7/site-packages (from tensorboard<2.10,>=2.9->tensorflow) (3.3.4)\n",
      "Requirement already satisfied: requests<3,>=2.21.0 in /Users/jameswest/opt/anaconda3/envs/PIC16B/lib/python3.7/site-packages (from tensorboard<2.10,>=2.9->tensorflow) (2.27.1)\n",
      "Requirement already satisfied: tensorboard-data-server<0.7.0,>=0.6.0 in /Users/jameswest/opt/anaconda3/envs/PIC16B/lib/python3.7/site-packages (from tensorboard<2.10,>=2.9->tensorflow) (0.6.1)\n",
      "Requirement already satisfied: tensorboard-plugin-wit>=1.6.0 in /Users/jameswest/opt/anaconda3/envs/PIC16B/lib/python3.7/site-packages (from tensorboard<2.10,>=2.9->tensorflow) (1.8.1)\n",
      "Requirement already satisfied: werkzeug>=1.0.1 in /Users/jameswest/opt/anaconda3/envs/PIC16B/lib/python3.7/site-packages (from tensorboard<2.10,>=2.9->tensorflow) (2.0.3)\n",
      "Requirement already satisfied: google-auth-oauthlib<0.5,>=0.4.1 in /Users/jameswest/opt/anaconda3/envs/PIC16B/lib/python3.7/site-packages (from tensorboard<2.10,>=2.9->tensorflow) (0.4.6)\n",
      "Requirement already satisfied: cachetools<6.0,>=2.0.0 in /Users/jameswest/opt/anaconda3/envs/PIC16B/lib/python3.7/site-packages (from google-auth<3,>=1.6.3->tensorboard<2.10,>=2.9->tensorflow) (5.0.0)\n",
      "Requirement already satisfied: rsa<5,>=3.1.4 in /Users/jameswest/opt/anaconda3/envs/PIC16B/lib/python3.7/site-packages (from google-auth<3,>=1.6.3->tensorboard<2.10,>=2.9->tensorflow) (4.8)\n",
      "Requirement already satisfied: pyasn1-modules>=0.2.1 in /Users/jameswest/opt/anaconda3/envs/PIC16B/lib/python3.7/site-packages (from google-auth<3,>=1.6.3->tensorboard<2.10,>=2.9->tensorflow) (0.2.8)\n",
      "Requirement already satisfied: requests-oauthlib>=0.7.0 in /Users/jameswest/opt/anaconda3/envs/PIC16B/lib/python3.7/site-packages (from google-auth-oauthlib<0.5,>=0.4.1->tensorboard<2.10,>=2.9->tensorflow) (1.3.1)\n",
      "Requirement already satisfied: importlib-metadata in /Users/jameswest/opt/anaconda3/envs/PIC16B/lib/python3.7/site-packages (from markdown>=2.6.8->tensorboard<2.10,>=2.9->tensorflow) (4.11.3)\n",
      "Requirement already satisfied: pyasn1<0.5.0,>=0.4.6 in /Users/jameswest/opt/anaconda3/envs/PIC16B/lib/python3.7/site-packages (from pyasn1-modules>=0.2.1->google-auth<3,>=1.6.3->tensorboard<2.10,>=2.9->tensorflow) (0.4.8)\n",
      "Requirement already satisfied: charset-normalizer~=2.0.0 in /Users/jameswest/opt/anaconda3/envs/PIC16B/lib/python3.7/site-packages (from requests<3,>=2.21.0->tensorboard<2.10,>=2.9->tensorflow) (2.0.4)\n",
      "Requirement already satisfied: certifi>=2017.4.17 in /Users/jameswest/opt/anaconda3/envs/PIC16B/lib/python3.7/site-packages (from requests<3,>=2.21.0->tensorboard<2.10,>=2.9->tensorflow) (2022.5.18.1)\n",
      "Requirement already satisfied: idna<4,>=2.5 in /Users/jameswest/opt/anaconda3/envs/PIC16B/lib/python3.7/site-packages (from requests<3,>=2.21.0->tensorboard<2.10,>=2.9->tensorflow) (3.3)\n",
      "Requirement already satisfied: urllib3<1.27,>=1.21.1 in /Users/jameswest/opt/anaconda3/envs/PIC16B/lib/python3.7/site-packages (from requests<3,>=2.21.0->tensorboard<2.10,>=2.9->tensorflow) (1.26.9)\n",
      "Requirement already satisfied: oauthlib>=3.0.0 in /Users/jameswest/opt/anaconda3/envs/PIC16B/lib/python3.7/site-packages (from requests-oauthlib>=0.7.0->google-auth-oauthlib<0.5,>=0.4.1->tensorboard<2.10,>=2.9->tensorflow) (3.2.0)\n",
      "Requirement already satisfied: zipp>=0.5 in /Users/jameswest/opt/anaconda3/envs/PIC16B/lib/python3.7/site-packages (from importlib-metadata->markdown>=2.6.8->tensorboard<2.10,>=2.9->tensorflow) (3.7.0)\n"
     ]
    },
    {
     "name": "stdout",
     "output_type": "stream",
     "text": [
      "Requirement already satisfied: pyparsing!=3.0.5,>=2.0.2 in /Users/jameswest/opt/anaconda3/envs/PIC16B/lib/python3.7/site-packages (from packaging->tensorflow) (3.0.4)\n",
      "Installing collected packages: absl-py, tensorflow-estimator, tensorboard, keras, flatbuffers, tensorflow\n",
      "  Attempting uninstall: absl-py\n",
      "    Found existing installation: absl-py 0.15.0\n",
      "    Uninstalling absl-py-0.15.0:\n",
      "      Successfully uninstalled absl-py-0.15.0\n",
      "  Attempting uninstall: tensorflow-estimator\n",
      "    Found existing installation: tensorflow-estimator 2.0.0\n",
      "    Uninstalling tensorflow-estimator-2.0.0:\n",
      "      Successfully uninstalled tensorflow-estimator-2.0.0\n",
      "  Attempting uninstall: tensorboard\n",
      "    Found existing installation: tensorboard 2.8.0\n",
      "    Uninstalling tensorboard-2.8.0:\n",
      "      Successfully uninstalled tensorboard-2.8.0\n",
      "  Attempting uninstall: keras\n",
      "    Found existing installation: keras 2.8.0\n",
      "    Uninstalling keras-2.8.0:\n",
      "      Successfully uninstalled keras-2.8.0\n",
      "  Attempting uninstall: flatbuffers\n",
      "    Found existing installation: flatbuffers 2.0\n",
      "    Uninstalling flatbuffers-2.0:\n",
      "      Successfully uninstalled flatbuffers-2.0\n",
      "  Attempting uninstall: tensorflow\n",
      "    Found existing installation: tensorflow 2.8.0\n",
      "    Uninstalling tensorflow-2.8.0:\n",
      "      Successfully uninstalled tensorflow-2.8.0\n",
      "Successfully installed absl-py-1.0.0 flatbuffers-1.12 keras-2.9.0 tensorboard-2.9.0 tensorflow-2.9.1 tensorflow-estimator-2.9.0\n"
     ]
    }
   ],
   "source": [
    "!pip3 install --upgrade tensorflow"
   ]
  },
  {
   "cell_type": "code",
   "execution_count": 2,
   "id": "40c639a3",
   "metadata": {},
   "outputs": [
    {
     "name": "stdout",
     "output_type": "stream",
     "text": [
      "Using Tensorflow 2.9.1\n"
     ]
    }
   ],
   "source": [
    "import tensorflow as tf\n",
    "print(f\"Using Tensorflow {tf.__version__}\")"
   ]
  },
  {
   "cell_type": "code",
   "execution_count": null,
   "id": "a6535357",
   "metadata": {},
   "outputs": [],
   "source": []
  }
 ],
 "metadata": {
  "kernelspec": {
   "display_name": "Python [conda env:PIC16B]",
   "language": "python",
   "name": "conda-env-PIC16B-py"
  },
  "language_info": {
   "codemirror_mode": {
    "name": "ipython",
    "version": 3
   },
   "file_extension": ".py",
   "mimetype": "text/x-python",
   "name": "python",
   "nbconvert_exporter": "python",
   "pygments_lexer": "ipython3",
   "version": "3.7.13"
  }
 },
 "nbformat": 4,
 "nbformat_minor": 5
}
