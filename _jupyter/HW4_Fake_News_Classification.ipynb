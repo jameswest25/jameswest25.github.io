{
 "cells": [
  {
   "cell_type": "code",
   "execution_count": 35,
   "id": "504fc44f",
   "metadata": {},
   "outputs": [],
   "source": [
    "import os\n",
    "import tensorflow as tf\n",
    "from tensorflow.keras import utils\n",
    "import matplotlib.pyplot as plt\n",
    "import numpy as np"
   ]
  },
  {
   "cell_type": "code",
   "execution_count": 36,
   "id": "57985ef8",
   "metadata": {},
   "outputs": [
    {
     "name": "stdout",
     "output_type": "stream",
     "text": [
      "Using Tensorflow 2.9.1\n"
     ]
    }
   ],
   "source": [
    "print(f\"Using Tensorflow {tf.__version__}\")"
   ]
  },
  {
   "cell_type": "code",
   "execution_count": 37,
   "id": "0ddce56e",
   "metadata": {},
   "outputs": [],
   "source": [
    "tf.autograph.set_verbosity(0)\n",
    "import logging\n",
    "logging.getLogger(\"tensorflow\").setLevel(logging.ERROR)"
   ]
  },
  {
   "cell_type": "code",
   "execution_count": 278,
   "id": "68a75812",
   "metadata": {},
   "outputs": [],
   "source": [
    "import pandas as pd\n",
    "train_url = \"https://github.com/PhilChodrow/PIC16b/blob/master/datasets/fake_news_train.csv?raw=true\"\n",
    "fake_news = pd.read_csv(train_url)"
   ]
  },
  {
   "cell_type": "code",
   "execution_count": 279,
   "id": "8fc81efe",
   "metadata": {},
   "outputs": [
    {
     "name": "stdout",
     "output_type": "stream",
     "text": [
      "<class 'pandas.core.frame.DataFrame'>\n",
      "RangeIndex: 22449 entries, 0 to 22448\n",
      "Data columns (total 4 columns):\n",
      " #   Column      Non-Null Count  Dtype \n",
      "---  ------      --------------  ----- \n",
      " 0   Unnamed: 0  22449 non-null  int64 \n",
      " 1   title       22449 non-null  object\n",
      " 2   text        22449 non-null  object\n",
      " 3   fake        22449 non-null  int64 \n",
      "dtypes: int64(2), object(2)\n",
      "memory usage: 701.7+ KB\n"
     ]
    }
   ],
   "source": [
    "fake_news.head()\n",
    "fake_news.info()"
   ]
  },
  {
   "cell_type": "code",
   "execution_count": 280,
   "id": "18c89933",
   "metadata": {
    "scrolled": true
   },
   "outputs": [],
   "source": [
    "from nltk.corpus import stopwords\n",
    "stop = stopwords.words('english')"
   ]
  },
  {
   "cell_type": "code",
   "execution_count": 281,
   "id": "59664dac",
   "metadata": {},
   "outputs": [],
   "source": [
    "def make_dataset(dataset):\n",
    "    #Getting rid of stop words in title and text\n",
    "    dataset['text'] = dataset['text'].apply(lambda x: ' '.join([word for word in x.split() if word not in (stop)]))\n",
    "    dataset['title'] = dataset['title'].apply(lambda x: ' '.join([word for word in x.split() if word not in (stop)]))\n",
    "    #Vectorizing data\n",
    "    #text = dataset['text'].apply(lambda x: convert_text_input(x))\n",
    "    #title = dataset['title'].apply(lambda x: convert_text_input(x))\n",
    "    #Constructing Dataset with two inputs(title, text) and one output (fake)\n",
    "    final = tf.data.Dataset.from_tensor_slices(({\"text\": dataset['text'], \"title\": dataset['title']}, {\"fake\": dataset['fake']}))\n",
    "    final = final.batch(100)\n",
    "    #Constructing train, validation and test datasets\n",
    "    #final = final.shuffle(10000, seed=12)\n",
    "    \n",
    "    train_size = int(.76 * len(list(final)))\n",
    "    val_size = int(.2 * len(list(final)))\n",
    "\n",
    "    train_ds = final.take(train_size)    \n",
    "    val_ds = final.skip(train_size).take(val_size)\n",
    "    test_ds = final.skip(train_size).skip(val_size)\n",
    "    \n",
    "    return train_ds, val_ds, test_ds\n",
    "train_ds, val_ds, test_ds = make_dataset(fake_news)"
   ]
  },
  {
   "cell_type": "code",
   "execution_count": 282,
   "id": "f79a8050",
   "metadata": {},
   "outputs": [],
   "source": [
    "AUTOTUNE = tf.data.experimental.AUTOTUNE\n",
    "\n",
    "train_dataset = train_ds.prefetch(buffer_size=AUTOTUNE)\n",
    "validation_dataset = val_ds.prefetch(buffer_size=AUTOTUNE)\n",
    "test_dataset = test_ds.prefetch(buffer_size=AUTOTUNE)"
   ]
  },
  {
   "cell_type": "code",
   "execution_count": 69,
   "id": "c627cb00",
   "metadata": {},
   "outputs": [
    {
     "name": "stdout",
     "output_type": "stream",
     "text": [
      "8117\n",
      "8932\n"
     ]
    }
   ],
   "source": [
    "temp = [y for x, y in train_dataset]\n",
    "labels_iterator = []\n",
    "for x in temp:\n",
    "    labels_iterator.extend(x['fake'].numpy())\n",
    "fakecount, realcount = 0, 0\n",
    "for x in labels_iterator:\n",
    "    if x == 0:\n",
    "        realcount += 1\n",
    "    else:\n",
    "        fakecount += 1\n",
    "print(realcount)\n",
    "print(fakecount)\n",
    "#If this model was to always guess fake news, it would be accurate 52.58% of the time"
   ]
  },
  {
   "cell_type": "code",
   "execution_count": 312,
   "id": "9ea7d866",
   "metadata": {},
   "outputs": [],
   "source": [
    "import re\n",
    "import string\n",
    "#preparing a text vectorization layer for tf model\n",
    "size_vocabulary = 2000\n",
    "\n",
    "def standardization(input_data):\n",
    "    lowercase = tf.strings.lower(input_data)\n",
    "    no_punctuation = tf.strings.regex_replace(lowercase,\n",
    "                                  '[%s]' % re.escape(string.punctuation),'')\n",
    "    return no_punctuation \n",
    "\n",
    "title_vectorize_layer = tf.keras.layers.TextVectorization(\n",
    "    standardize=standardization,\n",
    "    max_tokens=size_vocabulary, # only consider this many words\n",
    "    output_mode='int',\n",
    "    output_sequence_length=500) \n",
    "\n",
    "title_vectorize_layer.adapt(train_dataset.map(lambda x, y: x[\"title\"]))\n"
   ]
  },
  {
   "cell_type": "code",
   "execution_count": 131,
   "id": "4a12c0fc",
   "metadata": {},
   "outputs": [],
   "source": [
    "train_dataset_title = train_dataset.map(lambda x, y: convert_text_input(x[\"title\"]))\n",
    "train_dataset_text = train_dataset.map(lambda x, y: convert_text_input(x[\"text\"]))\n",
    "train_dataset_fake = train_dataset.map(lambda x, y: y)\n",
    "validation_dataset_title = validation_dataset.map(lambda x, y: convert_text_input(x[\"title\"]))\n",
    "validation_dataset_fake = validation_dataset.map(lambda x, y: y)\n",
    "#temp1 = tf.data.Dataset.zip((train_dataset_title, train_dataset_text))\n",
    "temp = tf.data.Dataset.zip((train_dataset_title, train_dataset_fake))\n",
    "temp1 = tf.data.Dataset.zip((validation_dataset_title, validation_dataset_fake))"
   ]
  },
  {
   "cell_type": "code",
   "execution_count": 347,
   "id": "185c0ce2",
   "metadata": {},
   "outputs": [],
   "source": [
    "num_words = 2000  # Size of vocabulary obtained when preprocessing text data\n",
    "\n",
    "title_input = tf.keras.Input(shape=(500,), dtype=tf.int32)  # Variable-length sequence of ints , name=\"title\"\n",
    "#text_input = tf.keras.Input(shape=(None,), name=\"text\")  # Variable-length sequence of ints\n",
    "\n",
    "# Embed each word in the title into a 64-dimensional vector (title_input)\n",
    "title_features = tf.keras.layers.Embedding(num_words, 64)(title_input)\n",
    "# Embed each word in the text into a 64-dimensional vector\n",
    "#text_features = tf.keras.layers.Embedding(num_words, 64)(text_input)\n",
    "\n",
    "# Reduce sequence of embedded words in the title into a single 128-dimensional vector\n",
    "title_features = tf.keras.layers.LSTM(128)(title_features)\n",
    "# Reduce sequence of embedded words in the body into a single 32-dimensional vector\n",
    "#text_features = tf.keras.layers.LSTM(32)(text_features)\n",
    "\n",
    "# Merge all available features into a single large vector via concatenation\n",
    "#x = tf.keras.layers.concatenate([title_features])\n",
    "#x = tf.keras.layers.concatenate([title_features, text_features])\n",
    "\n",
    "# Stick a logistic regression for priority prediction on top of the features\n",
    "fake_pred = tf.keras.layers.Dense(1)(title_features)\n",
    "\n",
    "# Instantiate an end-to-end model predicting both priority and department\n",
    "model1 = tf.keras.Model(\n",
    "    inputs=[title_input],\n",
    "    outputs=[fake_pred]\n",
    ")"
   ]
  },
  {
   "cell_type": "code",
   "execution_count": 348,
   "id": "c8ea1a1b",
   "metadata": {},
   "outputs": [],
   "source": [
    "inputs = tf.keras.Input(shape=(1, ), name = \"title\")\n",
    "x = title_vectorize_layer(inputs)\n",
    "outputs = model1(x)\n",
    "model2 = tf.keras.Model(inputs, outputs)"
   ]
  },
  {
   "cell_type": "code",
   "execution_count": 349,
   "id": "0ecc3b93",
   "metadata": {
    "scrolled": true
   },
   "outputs": [
    {
     "name": "stdout",
     "output_type": "stream",
     "text": [
      "Model: \"model_54\"\n",
      "_________________________________________________________________\n",
      " Layer (type)                Output Shape              Param #   \n",
      "=================================================================\n",
      " title (InputLayer)          [(None, 1)]               0         \n",
      "                                                                 \n",
      " text_vectorization_8 (TextV  (None, 500)              0         \n",
      " ectorization)                                                   \n",
      "                                                                 \n",
      " model_53 (Functional)       (None, 1)                 226945    \n",
      "                                                                 \n",
      "=================================================================\n",
      "Total params: 226,945\n",
      "Trainable params: 226,945\n",
      "Non-trainable params: 0\n",
      "_________________________________________________________________\n"
     ]
    }
   ],
   "source": [
    "model2.summary()"
   ]
  },
  {
   "cell_type": "code",
   "execution_count": 350,
   "id": "7bd100ef",
   "metadata": {},
   "outputs": [
    {
     "data": {
      "image/png": "[encoded data removed]",
      "text/plain": [
       "<IPython.core.display.Image object>"
      ]
     },
     "execution_count": 350,
     "metadata": {},
     "output_type": "execute_result"
    }
   ],
   "source": [
    "import graphviz\n",
    "import pydot\n",
    "utils.plot_model(model1, \"multi_input_and_output_model.png\", show_shapes=True)"
   ]
  },
  {
   "cell_type": "code",
   "execution_count": 356,
   "id": "9d1b4a95",
   "metadata": {},
   "outputs": [],
   "source": [
    "loss_fn = tf.keras.losses.SparseCategoricalCrossentropy(from_logits=True)\n",
    "model2.compile(optimizer=\"adam\", loss=loss_fn, metrics=[tf.keras.metrics.Accuracy(), tf.keras.metrics.Precision(), tf.keras.metrics.Recall()]) "
   ]
  },
  {
   "cell_type": "code",
   "execution_count": 357,
   "id": "536ff833",
   "metadata": {
    "scrolled": true
   },
   "outputs": [
    {
     "name": "stdout",
     "output_type": "stream",
     "text": [
      "Epoch 1/20\n"
     ]
    },
    {
     "ename": "ValueError",
     "evalue": "Found unexpected losses or metrics that do not correspond to any Model output: dict_keys(['fake']). Valid mode output names: ['model_53']. Received struct is: {'fake': <tf.Tensor 'IteratorGetNext:2' shape=(None,) dtype=int64>}.",
     "output_type": "error",
     "traceback": [
      "\u001b[0;31m---------------------------------------------------------------------------\u001b[0m",
      "\u001b[0;31mValueError\u001b[0m                                Traceback (most recent call last)",
      "\u001b[0;32m/var/folders/tw/b9qz7m_s4177m0wwkkj8wkj00000gn/T/ipykernel_27395/2773923522.py\u001b[0m in \u001b[0;36m<module>\u001b[0;34m\u001b[0m\n\u001b[0;32m----> 1\u001b[0;31m \u001b[0mhistory1\u001b[0m \u001b[0;34m=\u001b[0m \u001b[0mmodel2\u001b[0m\u001b[0;34m.\u001b[0m\u001b[0mfit\u001b[0m\u001b[0;34m(\u001b[0m\u001b[0mtrain_dataset\u001b[0m\u001b[0;34m,\u001b[0m \u001b[0mepochs\u001b[0m\u001b[0;34m=\u001b[0m\u001b[0;36m20\u001b[0m\u001b[0;34m,\u001b[0m \u001b[0mverbose\u001b[0m\u001b[0;34m=\u001b[0m\u001b[0;36m1\u001b[0m\u001b[0;34m)\u001b[0m\u001b[0;34m\u001b[0m\u001b[0;34m\u001b[0m\u001b[0m\n\u001b[0m",
      "\u001b[0;32m~/opt/anaconda3/envs/PIC16B/lib/python3.7/site-packages/keras/utils/traceback_utils.py\u001b[0m in \u001b[0;36merror_handler\u001b[0;34m(*args, **kwargs)\u001b[0m\n\u001b[1;32m     65\u001b[0m     \u001b[0;32mexcept\u001b[0m \u001b[0mException\u001b[0m \u001b[0;32mas\u001b[0m \u001b[0me\u001b[0m\u001b[0;34m:\u001b[0m  \u001b[0;31m# pylint: disable=broad-except\u001b[0m\u001b[0;34m\u001b[0m\u001b[0;34m\u001b[0m\u001b[0m\n\u001b[1;32m     66\u001b[0m       \u001b[0mfiltered_tb\u001b[0m \u001b[0;34m=\u001b[0m \u001b[0m_process_traceback_frames\u001b[0m\u001b[0;34m(\u001b[0m\u001b[0me\u001b[0m\u001b[0;34m.\u001b[0m\u001b[0m__traceback__\u001b[0m\u001b[0;34m)\u001b[0m\u001b[0;34m\u001b[0m\u001b[0;34m\u001b[0m\u001b[0m\n\u001b[0;32m---> 67\u001b[0;31m       \u001b[0;32mraise\u001b[0m \u001b[0me\u001b[0m\u001b[0;34m.\u001b[0m\u001b[0mwith_traceback\u001b[0m\u001b[0;34m(\u001b[0m\u001b[0mfiltered_tb\u001b[0m\u001b[0;34m)\u001b[0m \u001b[0;32mfrom\u001b[0m \u001b[0;32mNone\u001b[0m\u001b[0;34m\u001b[0m\u001b[0;34m\u001b[0m\u001b[0m\n\u001b[0m\u001b[1;32m     68\u001b[0m     \u001b[0;32mfinally\u001b[0m\u001b[0;34m:\u001b[0m\u001b[0;34m\u001b[0m\u001b[0;34m\u001b[0m\u001b[0m\n\u001b[1;32m     69\u001b[0m       \u001b[0;32mdel\u001b[0m \u001b[0mfiltered_tb\u001b[0m\u001b[0;34m\u001b[0m\u001b[0;34m\u001b[0m\u001b[0m\n",
      "\u001b[0;32m~/opt/anaconda3/envs/PIC16B/lib/python3.7/site-packages/keras/engine/compile_utils.py\u001b[0m in \u001b[0;36mmap_to_output_names\u001b[0;34m(y_pred, output_names, struct)\u001b[0m\n\u001b[1;32m    692\u001b[0m     \u001b[0;32mif\u001b[0m \u001b[0mstruct\u001b[0m\u001b[0;34m:\u001b[0m\u001b[0;34m\u001b[0m\u001b[0;34m\u001b[0m\u001b[0m\n\u001b[1;32m    693\u001b[0m       raise ValueError(\n\u001b[0;32m--> 694\u001b[0;31m           \u001b[0;34m'Found unexpected losses or metrics that do not correspond '\u001b[0m\u001b[0;34m\u001b[0m\u001b[0;34m\u001b[0m\u001b[0m\n\u001b[0m\u001b[1;32m    695\u001b[0m           \u001b[0;34mf'to any Model output: {struct.keys()}. '\u001b[0m\u001b[0;34m\u001b[0m\u001b[0;34m\u001b[0m\u001b[0m\n\u001b[1;32m    696\u001b[0m           \u001b[0;34mf'Valid mode output names: {output_names}. '\u001b[0m\u001b[0;34m\u001b[0m\u001b[0;34m\u001b[0m\u001b[0m\n",
      "\u001b[0;31mValueError\u001b[0m: Found unexpected losses or metrics that do not correspond to any Model output: dict_keys(['fake']). Valid mode output names: ['model_53']. Received struct is: {'fake': <tf.Tensor 'IteratorGetNext:2' shape=(None,) dtype=int64>}."
     ]
    }
   ],
   "source": [
    "history1 = model2.fit(train_dataset, epochs=20, verbose=1, validation_dataset = validation_dataset)"
   ]
  },
  {
   "cell_type": "code",
   "execution_count": null,
   "id": "d1a472b3",
   "metadata": {},
   "outputs": [],
   "source": [
    "#I tried to solve this error for 10+ hours and I couldn't figure it out\n",
    "#I know I wont get any credit for this, but I wanted to submit it anyways because this\n",
    "#was a lot of work and getting no credit doesn't seem fair. "
   ]
  }
 ],
 "metadata": {
  "kernelspec": {
   "display_name": "Python [conda env:PIC16B]",
   "language": "python",
   "name": "conda-env-PIC16B-py"
  },
  "language_info": {
   "codemirror_mode": {
    "name": "ipython",
    "version": 3
   },
   "file_extension": ".py",
   "mimetype": "text/x-python",
   "name": "python",
   "nbconvert_exporter": "python",
   "pygments_lexer": "ipython3",
   "version": "3.7.7"
  }
 },
 "nbformat": 4,
 "nbformat_minor": 5
}
